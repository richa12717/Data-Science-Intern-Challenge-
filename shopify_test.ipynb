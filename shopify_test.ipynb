{
  "nbformat": 4,
  "nbformat_minor": 0,
  "metadata": {
    "colab": {
      "name": "shopify_test.ipynb",
      "provenance": [],
      "collapsed_sections": []
    },
    "kernelspec": {
      "name": "python3",
      "display_name": "Python 3"
    },
    "language_info": {
      "name": "python"
    }
  },
  "cells": [
    {
      "cell_type": "markdown",
      "metadata": {
        "id": "_SQHMqDy04ky"
      },
      "source": [
        "## **Shopify Data Science Intern Challenge**"
      ]
    },
    {
      "cell_type": "markdown",
      "metadata": {
        "id": "pqEEYq8M0gxt"
      },
      "source": [
        "Question 1: Given some sample data, write a program to answer the following:\n",
        "\n",
        "On Shopify, we have exactly 100 sneaker shops, and each of these shops sells only one model of shoe. We want to do some analysis of the average order value (AOV). When we look at orders data over a 30 day window, we naively calculate an AOV of $3145.13. Given that we know these shops are selling sneakers, a relatively affordable item, something seems wrong with our analysis.\n",
        "\n",
        "1. Think about what could be going wrong with our calculation. Think about a better way to evaluate this data.\n",
        "2. What metric would you report for this dataset?\n",
        "3. What is its value?"
      ]
    },
    {
      "cell_type": "markdown",
      "metadata": {
        "id": "D97Q_KoV1LLT"
      },
      "source": [
        "Answer 1:"
      ]
    },
    {
      "cell_type": "code",
      "metadata": {
        "id": "npjqpBbJKtEI",
        "colab": {
          "base_uri": "https://localhost:8080/",
          "height": 355
        },
        "outputId": "7e7817c9-b825-44a1-e075-6970843dc683"
      },
      "source": [
        "import pandas as pd\n",
        "import numpy as np\n",
        "# Read the given dataset and store in dataframe df\n",
        "df= pd.read_csv(\"2019 Winter Data Science Intern Challenge Data Set - Sheet1.csv\")\n",
        "df.head(10)"
      ],
      "execution_count": 50,
      "outputs": [
        {
          "output_type": "execute_result",
          "data": {
            "text/html": [
              "<div>\n",
              "<style scoped>\n",
              "    .dataframe tbody tr th:only-of-type {\n",
              "        vertical-align: middle;\n",
              "    }\n",
              "\n",
              "    .dataframe tbody tr th {\n",
              "        vertical-align: top;\n",
              "    }\n",
              "\n",
              "    .dataframe thead th {\n",
              "        text-align: right;\n",
              "    }\n",
              "</style>\n",
              "<table border=\"1\" class=\"dataframe\">\n",
              "  <thead>\n",
              "    <tr style=\"text-align: right;\">\n",
              "      <th></th>\n",
              "      <th>order_id</th>\n",
              "      <th>shop_id</th>\n",
              "      <th>user_id</th>\n",
              "      <th>order_amount</th>\n",
              "      <th>total_items</th>\n",
              "      <th>payment_method</th>\n",
              "      <th>created_at</th>\n",
              "    </tr>\n",
              "  </thead>\n",
              "  <tbody>\n",
              "    <tr>\n",
              "      <th>0</th>\n",
              "      <td>1</td>\n",
              "      <td>53</td>\n",
              "      <td>746</td>\n",
              "      <td>224</td>\n",
              "      <td>2</td>\n",
              "      <td>cash</td>\n",
              "      <td>2017-03-13 12:36:56</td>\n",
              "    </tr>\n",
              "    <tr>\n",
              "      <th>1</th>\n",
              "      <td>2</td>\n",
              "      <td>92</td>\n",
              "      <td>925</td>\n",
              "      <td>90</td>\n",
              "      <td>1</td>\n",
              "      <td>cash</td>\n",
              "      <td>2017-03-03 17:38:52</td>\n",
              "    </tr>\n",
              "    <tr>\n",
              "      <th>2</th>\n",
              "      <td>3</td>\n",
              "      <td>44</td>\n",
              "      <td>861</td>\n",
              "      <td>144</td>\n",
              "      <td>1</td>\n",
              "      <td>cash</td>\n",
              "      <td>2017-03-14 4:23:56</td>\n",
              "    </tr>\n",
              "    <tr>\n",
              "      <th>3</th>\n",
              "      <td>4</td>\n",
              "      <td>18</td>\n",
              "      <td>935</td>\n",
              "      <td>156</td>\n",
              "      <td>1</td>\n",
              "      <td>credit_card</td>\n",
              "      <td>2017-03-26 12:43:37</td>\n",
              "    </tr>\n",
              "    <tr>\n",
              "      <th>4</th>\n",
              "      <td>5</td>\n",
              "      <td>18</td>\n",
              "      <td>883</td>\n",
              "      <td>156</td>\n",
              "      <td>1</td>\n",
              "      <td>credit_card</td>\n",
              "      <td>2017-03-01 4:35:11</td>\n",
              "    </tr>\n",
              "    <tr>\n",
              "      <th>5</th>\n",
              "      <td>6</td>\n",
              "      <td>58</td>\n",
              "      <td>882</td>\n",
              "      <td>138</td>\n",
              "      <td>1</td>\n",
              "      <td>credit_card</td>\n",
              "      <td>2017-03-14 15:25:01</td>\n",
              "    </tr>\n",
              "    <tr>\n",
              "      <th>6</th>\n",
              "      <td>7</td>\n",
              "      <td>87</td>\n",
              "      <td>915</td>\n",
              "      <td>149</td>\n",
              "      <td>1</td>\n",
              "      <td>cash</td>\n",
              "      <td>2017-03-01 21:37:57</td>\n",
              "    </tr>\n",
              "    <tr>\n",
              "      <th>7</th>\n",
              "      <td>8</td>\n",
              "      <td>22</td>\n",
              "      <td>761</td>\n",
              "      <td>292</td>\n",
              "      <td>2</td>\n",
              "      <td>cash</td>\n",
              "      <td>2017-03-08 2:05:38</td>\n",
              "    </tr>\n",
              "    <tr>\n",
              "      <th>8</th>\n",
              "      <td>9</td>\n",
              "      <td>64</td>\n",
              "      <td>914</td>\n",
              "      <td>266</td>\n",
              "      <td>2</td>\n",
              "      <td>debit</td>\n",
              "      <td>2017-03-17 20:56:50</td>\n",
              "    </tr>\n",
              "    <tr>\n",
              "      <th>9</th>\n",
              "      <td>10</td>\n",
              "      <td>52</td>\n",
              "      <td>788</td>\n",
              "      <td>146</td>\n",
              "      <td>1</td>\n",
              "      <td>credit_card</td>\n",
              "      <td>2017-03-30 21:08:26</td>\n",
              "    </tr>\n",
              "  </tbody>\n",
              "</table>\n",
              "</div>"
            ],
            "text/plain": [
              "   order_id  shop_id  user_id  ...  total_items  payment_method           created_at\n",
              "0         1       53      746  ...            2            cash  2017-03-13 12:36:56\n",
              "1         2       92      925  ...            1            cash  2017-03-03 17:38:52\n",
              "2         3       44      861  ...            1            cash   2017-03-14 4:23:56\n",
              "3         4       18      935  ...            1     credit_card  2017-03-26 12:43:37\n",
              "4         5       18      883  ...            1     credit_card   2017-03-01 4:35:11\n",
              "5         6       58      882  ...            1     credit_card  2017-03-14 15:25:01\n",
              "6         7       87      915  ...            1            cash  2017-03-01 21:37:57\n",
              "7         8       22      761  ...            2            cash   2017-03-08 2:05:38\n",
              "8         9       64      914  ...            2           debit  2017-03-17 20:56:50\n",
              "9        10       52      788  ...            1     credit_card  2017-03-30 21:08:26\n",
              "\n",
              "[10 rows x 7 columns]"
            ]
          },
          "metadata": {
            "tags": []
          },
          "execution_count": 50
        }
      ]
    },
    {
      "cell_type": "markdown",
      "metadata": {
        "id": "WEr8Esyu1hJ3"
      },
      "source": [
        "**Exploratory Analysis:**"
      ]
    },
    {
      "cell_type": "code",
      "metadata": {
        "colab": {
          "base_uri": "https://localhost:8080/"
        },
        "id": "rF4MYareMSJm",
        "outputId": "6323ac55-d4fd-487b-a785-f9ba9f491c2c"
      },
      "source": [
        "# Analyse order_amount feature to find out the issues with the average order value\n",
        "df.order_amount.describe()"
      ],
      "execution_count": 51,
      "outputs": [
        {
          "output_type": "execute_result",
          "data": {
            "text/plain": [
              "count      5000.000000\n",
              "mean       3145.128000\n",
              "std       41282.539349\n",
              "min          90.000000\n",
              "25%         163.000000\n",
              "50%         284.000000\n",
              "75%         390.000000\n",
              "max      704000.000000\n",
              "Name: order_amount, dtype: float64"
            ]
          },
          "metadata": {
            "tags": []
          },
          "execution_count": 51
        }
      ]
    },
    {
      "cell_type": "markdown",
      "metadata": {
        "id": "ItUbY-972L1A"
      },
      "source": [
        "The analysis shows that min order is 90 and orders value at 25% is 163 which seems fine. But at 75% (Percentile) the value os 390 and max value is 704000, which is a huge gap as compared to the min value and 25% value. It indicates the outliers. So to make sure we will plot the scatter plot to see the same exists."
      ]
    },
    {
      "cell_type": "code",
      "metadata": {
        "colab": {
          "base_uri": "https://localhost:8080/",
          "height": 513
        },
        "id": "jaDyuufMcjzC",
        "outputId": "e3bfc6fe-e256-4bf5-a170-5d175cd6c86f"
      },
      "source": [
        "import seaborn as sns\n",
        "sns.jointplot(x='total_items',y='order_amount',marginal_kws=dict(bins=20, rug=True), data=df)"
      ],
      "execution_count": 52,
      "outputs": [
        {
          "output_type": "stream",
          "text": [
            "/usr/local/lib/python3.7/dist-packages/seaborn/axisgrid.py:2094: UserWarning: The marginal plotting function has changed to `histplot`, which does not accept the following argument(s): rug.\n",
            "  warnings.warn(msg, UserWarning)\n"
          ],
          "name": "stderr"
        },
        {
          "output_type": "execute_result",
          "data": {
            "text/plain": [
              "<seaborn.axisgrid.JointGrid at 0x7fbca65cad10>"
            ]
          },
          "metadata": {
            "tags": []
          },
          "execution_count": 52
        },
        {
          "output_type": "display_data",
          "data": {
            "image/png": "[encoded data removed]",
            "text/plain": [
              "<Figure size 432x432 with 3 Axes>"
            ]
          },
          "metadata": {
            "tags": [],
            "needs_background": "light"
          }
        }
      ]
    },
    {
      "cell_type": "markdown",
      "metadata": {
        "id": "BGVxcrXs3KhY"
      },
      "source": [
        "The scatter plot shows the upper limit of the order amount is around 700000 and all other values are mostly scattered around 0-100. This plot shows the presence of oulier as well. So does affects the mean value. "
      ]
    },
    {
      "cell_type": "code",
      "metadata": {
        "colab": {
          "base_uri": "https://localhost:8080/"
        },
        "id": "_FAgeynVcOrL",
        "outputId": "dcd83693-f900-4c43-ab3e-3e433160921e"
      },
      "source": [
        "print(\"Old Mean:\",df.order_amount.mean())"
      ],
      "execution_count": 53,
      "outputs": [
        {
          "output_type": "stream",
          "text": [
            "Old Mean: 3145.128\n"
          ],
          "name": "stdout"
        }
      ]
    },
    {
      "cell_type": "markdown",
      "metadata": {
        "id": "vLjJWHQH39FK"
      },
      "source": [
        "Answer 1(a): The mean value is far away from the median value which is 284.0. Here we can say that the median is representing the true picture of the order values as the outliers are pushing the value of mean higher. We can choose median as the better metric to calculate the average order value or we can also remove the outlier to find the new value of mean."
      ]
    },
    {
      "cell_type": "code",
      "metadata": {
        "colab": {
          "base_uri": "https://localhost:8080/"
        },
        "id": "juAJjJf5dVHx",
        "outputId": "d3f4c76e-8f77-4c96-d76e-c5052fe94ccf"
      },
      "source": [
        "#Find the 99th percentile value of the order_amount\n",
        "upper_limit = np.percentile(df.order_amount,[99])[0]\n",
        "upper_limit "
      ],
      "execution_count": 54,
      "outputs": [
        {
          "output_type": "execute_result",
          "data": {
            "text/plain": [
              "25725.0"
            ]
          },
          "metadata": {
            "tags": []
          },
          "execution_count": 54
        }
      ]
    },
    {
      "cell_type": "code",
      "metadata": {
        "colab": {
          "base_uri": "https://localhost:8080/"
        },
        "id": "bI2akrU2eyyd",
        "outputId": "1b2d94ae-8eba-448c-ade8-3d0f3f4aa07c"
      },
      "source": [
        "df[(df.order_amount>upper_limit)].shape"
      ],
      "execution_count": 55,
      "outputs": [
        {
          "output_type": "execute_result",
          "data": {
            "text/plain": [
              "(44, 7)"
            ]
          },
          "metadata": {
            "tags": []
          },
          "execution_count": 55
        }
      ]
    },
    {
      "cell_type": "code",
      "metadata": {
        "colab": {
          "base_uri": "https://localhost:8080/",
          "height": 415
        },
        "id": "xMUiV8h76htZ",
        "outputId": "bcf47127-33a9-4c14-85d2-bdb37e1319b1"
      },
      "source": [
        "#Outliers are present above 98%\n",
        "#Find the 98th percentile value of the order_amount\n",
        "upper_limit = np.percentile(df.order_amount,[98])[0]\n",
        "df[(df.order_amount>upper_limit)]"
      ],
      "execution_count": 56,
      "outputs": [
        {
          "output_type": "execute_result",
          "data": {
            "text/html": [
              "<div>\n",
              "<style scoped>\n",
              "    .dataframe tbody tr th:only-of-type {\n",
              "        vertical-align: middle;\n",
              "    }\n",
              "\n",
              "    .dataframe tbody tr th {\n",
              "        vertical-align: top;\n",
              "    }\n",
              "\n",
              "    .dataframe thead th {\n",
              "        text-align: right;\n",
              "    }\n",
              "</style>\n",
              "<table border=\"1\" class=\"dataframe\">\n",
              "  <thead>\n",
              "    <tr style=\"text-align: right;\">\n",
              "      <th></th>\n",
              "      <th>order_id</th>\n",
              "      <th>shop_id</th>\n",
              "      <th>user_id</th>\n",
              "      <th>order_amount</th>\n",
              "      <th>total_items</th>\n",
              "      <th>payment_method</th>\n",
              "      <th>created_at</th>\n",
              "    </tr>\n",
              "  </thead>\n",
              "  <tbody>\n",
              "    <tr>\n",
              "      <th>15</th>\n",
              "      <td>16</td>\n",
              "      <td>42</td>\n",
              "      <td>607</td>\n",
              "      <td>704000</td>\n",
              "      <td>2000</td>\n",
              "      <td>credit_card</td>\n",
              "      <td>2017-03-07 4:00:00</td>\n",
              "    </tr>\n",
              "    <tr>\n",
              "      <th>60</th>\n",
              "      <td>61</td>\n",
              "      <td>42</td>\n",
              "      <td>607</td>\n",
              "      <td>704000</td>\n",
              "      <td>2000</td>\n",
              "      <td>credit_card</td>\n",
              "      <td>2017-03-04 4:00:00</td>\n",
              "    </tr>\n",
              "    <tr>\n",
              "      <th>160</th>\n",
              "      <td>161</td>\n",
              "      <td>78</td>\n",
              "      <td>990</td>\n",
              "      <td>25725</td>\n",
              "      <td>1</td>\n",
              "      <td>credit_card</td>\n",
              "      <td>2017-03-12 5:56:57</td>\n",
              "    </tr>\n",
              "    <tr>\n",
              "      <th>490</th>\n",
              "      <td>491</td>\n",
              "      <td>78</td>\n",
              "      <td>936</td>\n",
              "      <td>51450</td>\n",
              "      <td>2</td>\n",
              "      <td>debit</td>\n",
              "      <td>2017-03-26 17:08:19</td>\n",
              "    </tr>\n",
              "    <tr>\n",
              "      <th>493</th>\n",
              "      <td>494</td>\n",
              "      <td>78</td>\n",
              "      <td>983</td>\n",
              "      <td>51450</td>\n",
              "      <td>2</td>\n",
              "      <td>cash</td>\n",
              "      <td>2017-03-16 21:39:35</td>\n",
              "    </tr>\n",
              "    <tr>\n",
              "      <th>...</th>\n",
              "      <td>...</td>\n",
              "      <td>...</td>\n",
              "      <td>...</td>\n",
              "      <td>...</td>\n",
              "      <td>...</td>\n",
              "      <td>...</td>\n",
              "      <td>...</td>\n",
              "    </tr>\n",
              "    <tr>\n",
              "      <th>4868</th>\n",
              "      <td>4869</td>\n",
              "      <td>42</td>\n",
              "      <td>607</td>\n",
              "      <td>704000</td>\n",
              "      <td>2000</td>\n",
              "      <td>credit_card</td>\n",
              "      <td>2017-03-22 4:00:00</td>\n",
              "    </tr>\n",
              "    <tr>\n",
              "      <th>4882</th>\n",
              "      <td>4883</td>\n",
              "      <td>42</td>\n",
              "      <td>607</td>\n",
              "      <td>704000</td>\n",
              "      <td>2000</td>\n",
              "      <td>credit_card</td>\n",
              "      <td>2017-03-25 4:00:00</td>\n",
              "    </tr>\n",
              "    <tr>\n",
              "      <th>4918</th>\n",
              "      <td>4919</td>\n",
              "      <td>78</td>\n",
              "      <td>823</td>\n",
              "      <td>25725</td>\n",
              "      <td>1</td>\n",
              "      <td>cash</td>\n",
              "      <td>2017-03-15 13:26:46</td>\n",
              "    </tr>\n",
              "    <tr>\n",
              "      <th>4952</th>\n",
              "      <td>4953</td>\n",
              "      <td>26</td>\n",
              "      <td>786</td>\n",
              "      <td>880</td>\n",
              "      <td>5</td>\n",
              "      <td>cash</td>\n",
              "      <td>2017-03-17 1:50:18</td>\n",
              "    </tr>\n",
              "    <tr>\n",
              "      <th>4958</th>\n",
              "      <td>4959</td>\n",
              "      <td>70</td>\n",
              "      <td>711</td>\n",
              "      <td>865</td>\n",
              "      <td>5</td>\n",
              "      <td>credit_card</td>\n",
              "      <td>2017-03-08 17:22:51</td>\n",
              "    </tr>\n",
              "  </tbody>\n",
              "</table>\n",
              "<p>100 rows × 7 columns</p>\n",
              "</div>"
            ],
            "text/plain": [
              "      order_id  shop_id  ...  payment_method           created_at\n",
              "15          16       42  ...     credit_card   2017-03-07 4:00:00\n",
              "60          61       42  ...     credit_card   2017-03-04 4:00:00\n",
              "160        161       78  ...     credit_card   2017-03-12 5:56:57\n",
              "490        491       78  ...           debit  2017-03-26 17:08:19\n",
              "493        494       78  ...            cash  2017-03-16 21:39:35\n",
              "...        ...      ...  ...             ...                  ...\n",
              "4868      4869       42  ...     credit_card   2017-03-22 4:00:00\n",
              "4882      4883       42  ...     credit_card   2017-03-25 4:00:00\n",
              "4918      4919       78  ...            cash  2017-03-15 13:26:46\n",
              "4952      4953       26  ...            cash   2017-03-17 1:50:18\n",
              "4958      4959       70  ...     credit_card  2017-03-08 17:22:51\n",
              "\n",
              "[100 rows x 7 columns]"
            ]
          },
          "metadata": {
            "tags": []
          },
          "execution_count": 56
        }
      ]
    },
    {
      "cell_type": "code",
      "metadata": {
        "colab": {
          "base_uri": "https://localhost:8080/",
          "height": 754
        },
        "id": "tTS2Gygq6mCN",
        "outputId": "63a107fb-ff79-423b-d315-787a6b1f299d"
      },
      "source": [
        "#List of all the transactions with order amount greater than the 98% value\n",
        "df[(df.order_amount>upper_limit) & (df.shop_id==42)]"
      ],
      "execution_count": 57,
      "outputs": [
        {
          "output_type": "execute_result",
          "data": {
            "text/html": [
              "<div>\n",
              "<style scoped>\n",
              "    .dataframe tbody tr th:only-of-type {\n",
              "        vertical-align: middle;\n",
              "    }\n",
              "\n",
              "    .dataframe tbody tr th {\n",
              "        vertical-align: top;\n",
              "    }\n",
              "\n",
              "    .dataframe thead th {\n",
              "        text-align: right;\n",
              "    }\n",
              "</style>\n",
              "<table border=\"1\" class=\"dataframe\">\n",
              "  <thead>\n",
              "    <tr style=\"text-align: right;\">\n",
              "      <th></th>\n",
              "      <th>order_id</th>\n",
              "      <th>shop_id</th>\n",
              "      <th>user_id</th>\n",
              "      <th>order_amount</th>\n",
              "      <th>total_items</th>\n",
              "      <th>payment_method</th>\n",
              "      <th>created_at</th>\n",
              "    </tr>\n",
              "  </thead>\n",
              "  <tbody>\n",
              "    <tr>\n",
              "      <th>15</th>\n",
              "      <td>16</td>\n",
              "      <td>42</td>\n",
              "      <td>607</td>\n",
              "      <td>704000</td>\n",
              "      <td>2000</td>\n",
              "      <td>credit_card</td>\n",
              "      <td>2017-03-07 4:00:00</td>\n",
              "    </tr>\n",
              "    <tr>\n",
              "      <th>60</th>\n",
              "      <td>61</td>\n",
              "      <td>42</td>\n",
              "      <td>607</td>\n",
              "      <td>704000</td>\n",
              "      <td>2000</td>\n",
              "      <td>credit_card</td>\n",
              "      <td>2017-03-04 4:00:00</td>\n",
              "    </tr>\n",
              "    <tr>\n",
              "      <th>520</th>\n",
              "      <td>521</td>\n",
              "      <td>42</td>\n",
              "      <td>607</td>\n",
              "      <td>704000</td>\n",
              "      <td>2000</td>\n",
              "      <td>credit_card</td>\n",
              "      <td>2017-03-02 4:00:00</td>\n",
              "    </tr>\n",
              "    <tr>\n",
              "      <th>938</th>\n",
              "      <td>939</td>\n",
              "      <td>42</td>\n",
              "      <td>808</td>\n",
              "      <td>1056</td>\n",
              "      <td>3</td>\n",
              "      <td>credit_card</td>\n",
              "      <td>2017-03-13 23:43:45</td>\n",
              "    </tr>\n",
              "    <tr>\n",
              "      <th>1104</th>\n",
              "      <td>1105</td>\n",
              "      <td>42</td>\n",
              "      <td>607</td>\n",
              "      <td>704000</td>\n",
              "      <td>2000</td>\n",
              "      <td>credit_card</td>\n",
              "      <td>2017-03-24 4:00:00</td>\n",
              "    </tr>\n",
              "    <tr>\n",
              "      <th>1362</th>\n",
              "      <td>1363</td>\n",
              "      <td>42</td>\n",
              "      <td>607</td>\n",
              "      <td>704000</td>\n",
              "      <td>2000</td>\n",
              "      <td>credit_card</td>\n",
              "      <td>2017-03-15 4:00:00</td>\n",
              "    </tr>\n",
              "    <tr>\n",
              "      <th>1364</th>\n",
              "      <td>1365</td>\n",
              "      <td>42</td>\n",
              "      <td>797</td>\n",
              "      <td>1760</td>\n",
              "      <td>5</td>\n",
              "      <td>cash</td>\n",
              "      <td>2017-03-10 6:28:21</td>\n",
              "    </tr>\n",
              "    <tr>\n",
              "      <th>1367</th>\n",
              "      <td>1368</td>\n",
              "      <td>42</td>\n",
              "      <td>926</td>\n",
              "      <td>1408</td>\n",
              "      <td>4</td>\n",
              "      <td>cash</td>\n",
              "      <td>2017-03-13 2:38:34</td>\n",
              "    </tr>\n",
              "    <tr>\n",
              "      <th>1436</th>\n",
              "      <td>1437</td>\n",
              "      <td>42</td>\n",
              "      <td>607</td>\n",
              "      <td>704000</td>\n",
              "      <td>2000</td>\n",
              "      <td>credit_card</td>\n",
              "      <td>2017-03-11 4:00:00</td>\n",
              "    </tr>\n",
              "    <tr>\n",
              "      <th>1471</th>\n",
              "      <td>1472</td>\n",
              "      <td>42</td>\n",
              "      <td>907</td>\n",
              "      <td>1408</td>\n",
              "      <td>4</td>\n",
              "      <td>debit</td>\n",
              "      <td>2017-03-12 23:00:22</td>\n",
              "    </tr>\n",
              "    <tr>\n",
              "      <th>1562</th>\n",
              "      <td>1563</td>\n",
              "      <td>42</td>\n",
              "      <td>607</td>\n",
              "      <td>704000</td>\n",
              "      <td>2000</td>\n",
              "      <td>credit_card</td>\n",
              "      <td>2017-03-19 4:00:00</td>\n",
              "    </tr>\n",
              "    <tr>\n",
              "      <th>1602</th>\n",
              "      <td>1603</td>\n",
              "      <td>42</td>\n",
              "      <td>607</td>\n",
              "      <td>704000</td>\n",
              "      <td>2000</td>\n",
              "      <td>credit_card</td>\n",
              "      <td>2017-03-17 4:00:00</td>\n",
              "    </tr>\n",
              "    <tr>\n",
              "      <th>2153</th>\n",
              "      <td>2154</td>\n",
              "      <td>42</td>\n",
              "      <td>607</td>\n",
              "      <td>704000</td>\n",
              "      <td>2000</td>\n",
              "      <td>credit_card</td>\n",
              "      <td>2017-03-12 4:00:00</td>\n",
              "    </tr>\n",
              "    <tr>\n",
              "      <th>2297</th>\n",
              "      <td>2298</td>\n",
              "      <td>42</td>\n",
              "      <td>607</td>\n",
              "      <td>704000</td>\n",
              "      <td>2000</td>\n",
              "      <td>credit_card</td>\n",
              "      <td>2017-03-07 4:00:00</td>\n",
              "    </tr>\n",
              "    <tr>\n",
              "      <th>2835</th>\n",
              "      <td>2836</td>\n",
              "      <td>42</td>\n",
              "      <td>607</td>\n",
              "      <td>704000</td>\n",
              "      <td>2000</td>\n",
              "      <td>credit_card</td>\n",
              "      <td>2017-03-28 4:00:00</td>\n",
              "    </tr>\n",
              "    <tr>\n",
              "      <th>2969</th>\n",
              "      <td>2970</td>\n",
              "      <td>42</td>\n",
              "      <td>607</td>\n",
              "      <td>704000</td>\n",
              "      <td>2000</td>\n",
              "      <td>credit_card</td>\n",
              "      <td>2017-03-28 4:00:00</td>\n",
              "    </tr>\n",
              "    <tr>\n",
              "      <th>2987</th>\n",
              "      <td>2988</td>\n",
              "      <td>42</td>\n",
              "      <td>819</td>\n",
              "      <td>1056</td>\n",
              "      <td>3</td>\n",
              "      <td>cash</td>\n",
              "      <td>2017-03-03 9:09:25</td>\n",
              "    </tr>\n",
              "    <tr>\n",
              "      <th>3332</th>\n",
              "      <td>3333</td>\n",
              "      <td>42</td>\n",
              "      <td>607</td>\n",
              "      <td>704000</td>\n",
              "      <td>2000</td>\n",
              "      <td>credit_card</td>\n",
              "      <td>2017-03-24 4:00:00</td>\n",
              "    </tr>\n",
              "    <tr>\n",
              "      <th>3513</th>\n",
              "      <td>3514</td>\n",
              "      <td>42</td>\n",
              "      <td>726</td>\n",
              "      <td>1056</td>\n",
              "      <td>3</td>\n",
              "      <td>debit</td>\n",
              "      <td>2017-03-24 17:51:05</td>\n",
              "    </tr>\n",
              "    <tr>\n",
              "      <th>4056</th>\n",
              "      <td>4057</td>\n",
              "      <td>42</td>\n",
              "      <td>607</td>\n",
              "      <td>704000</td>\n",
              "      <td>2000</td>\n",
              "      <td>credit_card</td>\n",
              "      <td>2017-03-28 4:00:00</td>\n",
              "    </tr>\n",
              "    <tr>\n",
              "      <th>4646</th>\n",
              "      <td>4647</td>\n",
              "      <td>42</td>\n",
              "      <td>607</td>\n",
              "      <td>704000</td>\n",
              "      <td>2000</td>\n",
              "      <td>credit_card</td>\n",
              "      <td>2017-03-02 4:00:00</td>\n",
              "    </tr>\n",
              "    <tr>\n",
              "      <th>4868</th>\n",
              "      <td>4869</td>\n",
              "      <td>42</td>\n",
              "      <td>607</td>\n",
              "      <td>704000</td>\n",
              "      <td>2000</td>\n",
              "      <td>credit_card</td>\n",
              "      <td>2017-03-22 4:00:00</td>\n",
              "    </tr>\n",
              "    <tr>\n",
              "      <th>4882</th>\n",
              "      <td>4883</td>\n",
              "      <td>42</td>\n",
              "      <td>607</td>\n",
              "      <td>704000</td>\n",
              "      <td>2000</td>\n",
              "      <td>credit_card</td>\n",
              "      <td>2017-03-25 4:00:00</td>\n",
              "    </tr>\n",
              "  </tbody>\n",
              "</table>\n",
              "</div>"
            ],
            "text/plain": [
              "      order_id  shop_id  ...  payment_method           created_at\n",
              "15          16       42  ...     credit_card   2017-03-07 4:00:00\n",
              "60          61       42  ...     credit_card   2017-03-04 4:00:00\n",
              "520        521       42  ...     credit_card   2017-03-02 4:00:00\n",
              "938        939       42  ...     credit_card  2017-03-13 23:43:45\n",
              "1104      1105       42  ...     credit_card   2017-03-24 4:00:00\n",
              "1362      1363       42  ...     credit_card   2017-03-15 4:00:00\n",
              "1364      1365       42  ...            cash   2017-03-10 6:28:21\n",
              "1367      1368       42  ...            cash   2017-03-13 2:38:34\n",
              "1436      1437       42  ...     credit_card   2017-03-11 4:00:00\n",
              "1471      1472       42  ...           debit  2017-03-12 23:00:22\n",
              "1562      1563       42  ...     credit_card   2017-03-19 4:00:00\n",
              "1602      1603       42  ...     credit_card   2017-03-17 4:00:00\n",
              "2153      2154       42  ...     credit_card   2017-03-12 4:00:00\n",
              "2297      2298       42  ...     credit_card   2017-03-07 4:00:00\n",
              "2835      2836       42  ...     credit_card   2017-03-28 4:00:00\n",
              "2969      2970       42  ...     credit_card   2017-03-28 4:00:00\n",
              "2987      2988       42  ...            cash   2017-03-03 9:09:25\n",
              "3332      3333       42  ...     credit_card   2017-03-24 4:00:00\n",
              "3513      3514       42  ...           debit  2017-03-24 17:51:05\n",
              "4056      4057       42  ...     credit_card   2017-03-28 4:00:00\n",
              "4646      4647       42  ...     credit_card   2017-03-02 4:00:00\n",
              "4868      4869       42  ...     credit_card   2017-03-22 4:00:00\n",
              "4882      4883       42  ...     credit_card   2017-03-25 4:00:00\n",
              "\n",
              "[23 rows x 7 columns]"
            ]
          },
          "metadata": {
            "tags": []
          },
          "execution_count": 57
        }
      ]
    },
    {
      "cell_type": "code",
      "metadata": {
        "colab": {
          "base_uri": "https://localhost:8080/",
          "height": 110
        },
        "id": "m91YLh0r8wjo",
        "outputId": "2314fdeb-c8af-46b7-d6c4-33b243a849f7"
      },
      "source": [
        "df[(df.order_amount>upper_limit) & (df.shop_id==26)]"
      ],
      "execution_count": 58,
      "outputs": [
        {
          "output_type": "execute_result",
          "data": {
            "text/html": [
              "<div>\n",
              "<style scoped>\n",
              "    .dataframe tbody tr th:only-of-type {\n",
              "        vertical-align: middle;\n",
              "    }\n",
              "\n",
              "    .dataframe tbody tr th {\n",
              "        vertical-align: top;\n",
              "    }\n",
              "\n",
              "    .dataframe thead th {\n",
              "        text-align: right;\n",
              "    }\n",
              "</style>\n",
              "<table border=\"1\" class=\"dataframe\">\n",
              "  <thead>\n",
              "    <tr style=\"text-align: right;\">\n",
              "      <th></th>\n",
              "      <th>order_id</th>\n",
              "      <th>shop_id</th>\n",
              "      <th>user_id</th>\n",
              "      <th>order_amount</th>\n",
              "      <th>total_items</th>\n",
              "      <th>payment_method</th>\n",
              "      <th>created_at</th>\n",
              "    </tr>\n",
              "  </thead>\n",
              "  <tbody>\n",
              "    <tr>\n",
              "      <th>4523</th>\n",
              "      <td>4524</td>\n",
              "      <td>26</td>\n",
              "      <td>995</td>\n",
              "      <td>880</td>\n",
              "      <td>5</td>\n",
              "      <td>credit_card</td>\n",
              "      <td>2017-03-09 8:28:31</td>\n",
              "    </tr>\n",
              "    <tr>\n",
              "      <th>4952</th>\n",
              "      <td>4953</td>\n",
              "      <td>26</td>\n",
              "      <td>786</td>\n",
              "      <td>880</td>\n",
              "      <td>5</td>\n",
              "      <td>cash</td>\n",
              "      <td>2017-03-17 1:50:18</td>\n",
              "    </tr>\n",
              "  </tbody>\n",
              "</table>\n",
              "</div>"
            ],
            "text/plain": [
              "      order_id  shop_id  ...  payment_method          created_at\n",
              "4523      4524       26  ...     credit_card  2017-03-09 8:28:31\n",
              "4952      4953       26  ...            cash  2017-03-17 1:50:18\n",
              "\n",
              "[2 rows x 7 columns]"
            ]
          },
          "metadata": {
            "tags": []
          },
          "execution_count": 58
        }
      ]
    },
    {
      "cell_type": "code",
      "metadata": {
        "colab": {
          "base_uri": "https://localhost:8080/",
          "height": 1000
        },
        "id": "7GMDlEiO82LX",
        "outputId": "a59cf347-5667-4d78-cb3b-d50c295d072b"
      },
      "source": [
        "df[(df.order_amount>upper_limit) & (df.shop_id==78)]"
      ],
      "execution_count": 59,
      "outputs": [
        {
          "output_type": "execute_result",
          "data": {
            "text/html": [
              "<div>\n",
              "<style scoped>\n",
              "    .dataframe tbody tr th:only-of-type {\n",
              "        vertical-align: middle;\n",
              "    }\n",
              "\n",
              "    .dataframe tbody tr th {\n",
              "        vertical-align: top;\n",
              "    }\n",
              "\n",
              "    .dataframe thead th {\n",
              "        text-align: right;\n",
              "    }\n",
              "</style>\n",
              "<table border=\"1\" class=\"dataframe\">\n",
              "  <thead>\n",
              "    <tr style=\"text-align: right;\">\n",
              "      <th></th>\n",
              "      <th>order_id</th>\n",
              "      <th>shop_id</th>\n",
              "      <th>user_id</th>\n",
              "      <th>order_amount</th>\n",
              "      <th>total_items</th>\n",
              "      <th>payment_method</th>\n",
              "      <th>created_at</th>\n",
              "    </tr>\n",
              "  </thead>\n",
              "  <tbody>\n",
              "    <tr>\n",
              "      <th>160</th>\n",
              "      <td>161</td>\n",
              "      <td>78</td>\n",
              "      <td>990</td>\n",
              "      <td>25725</td>\n",
              "      <td>1</td>\n",
              "      <td>credit_card</td>\n",
              "      <td>2017-03-12 5:56:57</td>\n",
              "    </tr>\n",
              "    <tr>\n",
              "      <th>490</th>\n",
              "      <td>491</td>\n",
              "      <td>78</td>\n",
              "      <td>936</td>\n",
              "      <td>51450</td>\n",
              "      <td>2</td>\n",
              "      <td>debit</td>\n",
              "      <td>2017-03-26 17:08:19</td>\n",
              "    </tr>\n",
              "    <tr>\n",
              "      <th>493</th>\n",
              "      <td>494</td>\n",
              "      <td>78</td>\n",
              "      <td>983</td>\n",
              "      <td>51450</td>\n",
              "      <td>2</td>\n",
              "      <td>cash</td>\n",
              "      <td>2017-03-16 21:39:35</td>\n",
              "    </tr>\n",
              "    <tr>\n",
              "      <th>511</th>\n",
              "      <td>512</td>\n",
              "      <td>78</td>\n",
              "      <td>967</td>\n",
              "      <td>51450</td>\n",
              "      <td>2</td>\n",
              "      <td>cash</td>\n",
              "      <td>2017-03-09 7:23:14</td>\n",
              "    </tr>\n",
              "    <tr>\n",
              "      <th>617</th>\n",
              "      <td>618</td>\n",
              "      <td>78</td>\n",
              "      <td>760</td>\n",
              "      <td>51450</td>\n",
              "      <td>2</td>\n",
              "      <td>cash</td>\n",
              "      <td>2017-03-18 11:18:42</td>\n",
              "    </tr>\n",
              "    <tr>\n",
              "      <th>691</th>\n",
              "      <td>692</td>\n",
              "      <td>78</td>\n",
              "      <td>878</td>\n",
              "      <td>154350</td>\n",
              "      <td>6</td>\n",
              "      <td>debit</td>\n",
              "      <td>2017-03-27 22:51:43</td>\n",
              "    </tr>\n",
              "    <tr>\n",
              "      <th>1056</th>\n",
              "      <td>1057</td>\n",
              "      <td>78</td>\n",
              "      <td>800</td>\n",
              "      <td>25725</td>\n",
              "      <td>1</td>\n",
              "      <td>debit</td>\n",
              "      <td>2017-03-15 10:16:45</td>\n",
              "    </tr>\n",
              "    <tr>\n",
              "      <th>1193</th>\n",
              "      <td>1194</td>\n",
              "      <td>78</td>\n",
              "      <td>944</td>\n",
              "      <td>25725</td>\n",
              "      <td>1</td>\n",
              "      <td>debit</td>\n",
              "      <td>2017-03-16 16:38:26</td>\n",
              "    </tr>\n",
              "    <tr>\n",
              "      <th>1204</th>\n",
              "      <td>1205</td>\n",
              "      <td>78</td>\n",
              "      <td>970</td>\n",
              "      <td>25725</td>\n",
              "      <td>1</td>\n",
              "      <td>credit_card</td>\n",
              "      <td>2017-03-17 22:32:21</td>\n",
              "    </tr>\n",
              "    <tr>\n",
              "      <th>1259</th>\n",
              "      <td>1260</td>\n",
              "      <td>78</td>\n",
              "      <td>775</td>\n",
              "      <td>77175</td>\n",
              "      <td>3</td>\n",
              "      <td>credit_card</td>\n",
              "      <td>2017-03-27 9:27:20</td>\n",
              "    </tr>\n",
              "    <tr>\n",
              "      <th>1384</th>\n",
              "      <td>1385</td>\n",
              "      <td>78</td>\n",
              "      <td>867</td>\n",
              "      <td>25725</td>\n",
              "      <td>1</td>\n",
              "      <td>cash</td>\n",
              "      <td>2017-03-17 16:38:06</td>\n",
              "    </tr>\n",
              "    <tr>\n",
              "      <th>1419</th>\n",
              "      <td>1420</td>\n",
              "      <td>78</td>\n",
              "      <td>912</td>\n",
              "      <td>25725</td>\n",
              "      <td>1</td>\n",
              "      <td>cash</td>\n",
              "      <td>2017-03-30 12:23:43</td>\n",
              "    </tr>\n",
              "    <tr>\n",
              "      <th>1452</th>\n",
              "      <td>1453</td>\n",
              "      <td>78</td>\n",
              "      <td>812</td>\n",
              "      <td>25725</td>\n",
              "      <td>1</td>\n",
              "      <td>credit_card</td>\n",
              "      <td>2017-03-17 18:09:54</td>\n",
              "    </tr>\n",
              "    <tr>\n",
              "      <th>1529</th>\n",
              "      <td>1530</td>\n",
              "      <td>78</td>\n",
              "      <td>810</td>\n",
              "      <td>51450</td>\n",
              "      <td>2</td>\n",
              "      <td>cash</td>\n",
              "      <td>2017-03-29 7:12:01</td>\n",
              "    </tr>\n",
              "    <tr>\n",
              "      <th>2270</th>\n",
              "      <td>2271</td>\n",
              "      <td>78</td>\n",
              "      <td>855</td>\n",
              "      <td>25725</td>\n",
              "      <td>1</td>\n",
              "      <td>credit_card</td>\n",
              "      <td>2017-03-14 23:58:22</td>\n",
              "    </tr>\n",
              "    <tr>\n",
              "      <th>2452</th>\n",
              "      <td>2453</td>\n",
              "      <td>78</td>\n",
              "      <td>709</td>\n",
              "      <td>51450</td>\n",
              "      <td>2</td>\n",
              "      <td>cash</td>\n",
              "      <td>2017-03-27 11:04:04</td>\n",
              "    </tr>\n",
              "    <tr>\n",
              "      <th>2492</th>\n",
              "      <td>2493</td>\n",
              "      <td>78</td>\n",
              "      <td>834</td>\n",
              "      <td>102900</td>\n",
              "      <td>4</td>\n",
              "      <td>debit</td>\n",
              "      <td>2017-03-04 4:37:34</td>\n",
              "    </tr>\n",
              "    <tr>\n",
              "      <th>2495</th>\n",
              "      <td>2496</td>\n",
              "      <td>78</td>\n",
              "      <td>707</td>\n",
              "      <td>51450</td>\n",
              "      <td>2</td>\n",
              "      <td>cash</td>\n",
              "      <td>2017-03-26 4:38:52</td>\n",
              "    </tr>\n",
              "    <tr>\n",
              "      <th>2512</th>\n",
              "      <td>2513</td>\n",
              "      <td>78</td>\n",
              "      <td>935</td>\n",
              "      <td>51450</td>\n",
              "      <td>2</td>\n",
              "      <td>debit</td>\n",
              "      <td>2017-03-18 18:57:13</td>\n",
              "    </tr>\n",
              "    <tr>\n",
              "      <th>2548</th>\n",
              "      <td>2549</td>\n",
              "      <td>78</td>\n",
              "      <td>861</td>\n",
              "      <td>25725</td>\n",
              "      <td>1</td>\n",
              "      <td>cash</td>\n",
              "      <td>2017-03-17 19:36:00</td>\n",
              "    </tr>\n",
              "    <tr>\n",
              "      <th>2564</th>\n",
              "      <td>2565</td>\n",
              "      <td>78</td>\n",
              "      <td>915</td>\n",
              "      <td>77175</td>\n",
              "      <td>3</td>\n",
              "      <td>debit</td>\n",
              "      <td>2017-03-25 1:19:35</td>\n",
              "    </tr>\n",
              "    <tr>\n",
              "      <th>2690</th>\n",
              "      <td>2691</td>\n",
              "      <td>78</td>\n",
              "      <td>962</td>\n",
              "      <td>77175</td>\n",
              "      <td>3</td>\n",
              "      <td>debit</td>\n",
              "      <td>2017-03-22 7:33:25</td>\n",
              "    </tr>\n",
              "    <tr>\n",
              "      <th>2773</th>\n",
              "      <td>2774</td>\n",
              "      <td>78</td>\n",
              "      <td>890</td>\n",
              "      <td>25725</td>\n",
              "      <td>1</td>\n",
              "      <td>cash</td>\n",
              "      <td>2017-03-26 10:36:43</td>\n",
              "    </tr>\n",
              "    <tr>\n",
              "      <th>2818</th>\n",
              "      <td>2819</td>\n",
              "      <td>78</td>\n",
              "      <td>869</td>\n",
              "      <td>51450</td>\n",
              "      <td>2</td>\n",
              "      <td>debit</td>\n",
              "      <td>2017-03-17 6:25:51</td>\n",
              "    </tr>\n",
              "    <tr>\n",
              "      <th>2821</th>\n",
              "      <td>2822</td>\n",
              "      <td>78</td>\n",
              "      <td>814</td>\n",
              "      <td>51450</td>\n",
              "      <td>2</td>\n",
              "      <td>cash</td>\n",
              "      <td>2017-03-02 17:13:25</td>\n",
              "    </tr>\n",
              "    <tr>\n",
              "      <th>2906</th>\n",
              "      <td>2907</td>\n",
              "      <td>78</td>\n",
              "      <td>817</td>\n",
              "      <td>77175</td>\n",
              "      <td>3</td>\n",
              "      <td>debit</td>\n",
              "      <td>2017-03-16 3:45:46</td>\n",
              "    </tr>\n",
              "    <tr>\n",
              "      <th>2922</th>\n",
              "      <td>2923</td>\n",
              "      <td>78</td>\n",
              "      <td>740</td>\n",
              "      <td>25725</td>\n",
              "      <td>1</td>\n",
              "      <td>debit</td>\n",
              "      <td>2017-03-12 20:10:58</td>\n",
              "    </tr>\n",
              "    <tr>\n",
              "      <th>3085</th>\n",
              "      <td>3086</td>\n",
              "      <td>78</td>\n",
              "      <td>910</td>\n",
              "      <td>25725</td>\n",
              "      <td>1</td>\n",
              "      <td>cash</td>\n",
              "      <td>2017-03-26 1:59:27</td>\n",
              "    </tr>\n",
              "    <tr>\n",
              "      <th>3101</th>\n",
              "      <td>3102</td>\n",
              "      <td>78</td>\n",
              "      <td>855</td>\n",
              "      <td>51450</td>\n",
              "      <td>2</td>\n",
              "      <td>credit_card</td>\n",
              "      <td>2017-03-21 5:10:34</td>\n",
              "    </tr>\n",
              "    <tr>\n",
              "      <th>3151</th>\n",
              "      <td>3152</td>\n",
              "      <td>78</td>\n",
              "      <td>745</td>\n",
              "      <td>25725</td>\n",
              "      <td>1</td>\n",
              "      <td>credit_card</td>\n",
              "      <td>2017-03-18 13:13:07</td>\n",
              "    </tr>\n",
              "    <tr>\n",
              "      <th>3167</th>\n",
              "      <td>3168</td>\n",
              "      <td>78</td>\n",
              "      <td>927</td>\n",
              "      <td>51450</td>\n",
              "      <td>2</td>\n",
              "      <td>cash</td>\n",
              "      <td>2017-03-12 12:23:08</td>\n",
              "    </tr>\n",
              "    <tr>\n",
              "      <th>3403</th>\n",
              "      <td>3404</td>\n",
              "      <td>78</td>\n",
              "      <td>928</td>\n",
              "      <td>77175</td>\n",
              "      <td>3</td>\n",
              "      <td>debit</td>\n",
              "      <td>2017-03-16 9:45:05</td>\n",
              "    </tr>\n",
              "    <tr>\n",
              "      <th>3440</th>\n",
              "      <td>3441</td>\n",
              "      <td>78</td>\n",
              "      <td>982</td>\n",
              "      <td>25725</td>\n",
              "      <td>1</td>\n",
              "      <td>debit</td>\n",
              "      <td>2017-03-19 19:02:54</td>\n",
              "    </tr>\n",
              "    <tr>\n",
              "      <th>3705</th>\n",
              "      <td>3706</td>\n",
              "      <td>78</td>\n",
              "      <td>828</td>\n",
              "      <td>51450</td>\n",
              "      <td>2</td>\n",
              "      <td>credit_card</td>\n",
              "      <td>2017-03-14 20:43:15</td>\n",
              "    </tr>\n",
              "    <tr>\n",
              "      <th>3724</th>\n",
              "      <td>3725</td>\n",
              "      <td>78</td>\n",
              "      <td>766</td>\n",
              "      <td>77175</td>\n",
              "      <td>3</td>\n",
              "      <td>credit_card</td>\n",
              "      <td>2017-03-16 14:13:26</td>\n",
              "    </tr>\n",
              "    <tr>\n",
              "      <th>3780</th>\n",
              "      <td>3781</td>\n",
              "      <td>78</td>\n",
              "      <td>889</td>\n",
              "      <td>25725</td>\n",
              "      <td>1</td>\n",
              "      <td>cash</td>\n",
              "      <td>2017-03-11 21:14:50</td>\n",
              "    </tr>\n",
              "    <tr>\n",
              "      <th>4040</th>\n",
              "      <td>4041</td>\n",
              "      <td>78</td>\n",
              "      <td>852</td>\n",
              "      <td>25725</td>\n",
              "      <td>1</td>\n",
              "      <td>cash</td>\n",
              "      <td>2017-03-02 14:31:12</td>\n",
              "    </tr>\n",
              "    <tr>\n",
              "      <th>4079</th>\n",
              "      <td>4080</td>\n",
              "      <td>78</td>\n",
              "      <td>946</td>\n",
              "      <td>51450</td>\n",
              "      <td>2</td>\n",
              "      <td>cash</td>\n",
              "      <td>2017-03-20 21:14:00</td>\n",
              "    </tr>\n",
              "    <tr>\n",
              "      <th>4192</th>\n",
              "      <td>4193</td>\n",
              "      <td>78</td>\n",
              "      <td>787</td>\n",
              "      <td>77175</td>\n",
              "      <td>3</td>\n",
              "      <td>credit_card</td>\n",
              "      <td>2017-03-18 9:25:32</td>\n",
              "    </tr>\n",
              "    <tr>\n",
              "      <th>4311</th>\n",
              "      <td>4312</td>\n",
              "      <td>78</td>\n",
              "      <td>960</td>\n",
              "      <td>51450</td>\n",
              "      <td>2</td>\n",
              "      <td>debit</td>\n",
              "      <td>2017-03-01 3:02:10</td>\n",
              "    </tr>\n",
              "    <tr>\n",
              "      <th>4412</th>\n",
              "      <td>4413</td>\n",
              "      <td>78</td>\n",
              "      <td>756</td>\n",
              "      <td>51450</td>\n",
              "      <td>2</td>\n",
              "      <td>debit</td>\n",
              "      <td>2017-03-02 4:13:39</td>\n",
              "    </tr>\n",
              "    <tr>\n",
              "      <th>4420</th>\n",
              "      <td>4421</td>\n",
              "      <td>78</td>\n",
              "      <td>969</td>\n",
              "      <td>77175</td>\n",
              "      <td>3</td>\n",
              "      <td>debit</td>\n",
              "      <td>2017-03-09 15:21:35</td>\n",
              "    </tr>\n",
              "    <tr>\n",
              "      <th>4505</th>\n",
              "      <td>4506</td>\n",
              "      <td>78</td>\n",
              "      <td>866</td>\n",
              "      <td>25725</td>\n",
              "      <td>1</td>\n",
              "      <td>debit</td>\n",
              "      <td>2017-03-22 22:06:01</td>\n",
              "    </tr>\n",
              "    <tr>\n",
              "      <th>4584</th>\n",
              "      <td>4585</td>\n",
              "      <td>78</td>\n",
              "      <td>997</td>\n",
              "      <td>25725</td>\n",
              "      <td>1</td>\n",
              "      <td>cash</td>\n",
              "      <td>2017-03-25 21:48:44</td>\n",
              "    </tr>\n",
              "    <tr>\n",
              "      <th>4715</th>\n",
              "      <td>4716</td>\n",
              "      <td>78</td>\n",
              "      <td>818</td>\n",
              "      <td>77175</td>\n",
              "      <td>3</td>\n",
              "      <td>debit</td>\n",
              "      <td>2017-03-05 5:10:44</td>\n",
              "    </tr>\n",
              "    <tr>\n",
              "      <th>4918</th>\n",
              "      <td>4919</td>\n",
              "      <td>78</td>\n",
              "      <td>823</td>\n",
              "      <td>25725</td>\n",
              "      <td>1</td>\n",
              "      <td>cash</td>\n",
              "      <td>2017-03-15 13:26:46</td>\n",
              "    </tr>\n",
              "  </tbody>\n",
              "</table>\n",
              "</div>"
            ],
            "text/plain": [
              "      order_id  shop_id  ...  payment_method           created_at\n",
              "160        161       78  ...     credit_card   2017-03-12 5:56:57\n",
              "490        491       78  ...           debit  2017-03-26 17:08:19\n",
              "493        494       78  ...            cash  2017-03-16 21:39:35\n",
              "511        512       78  ...            cash   2017-03-09 7:23:14\n",
              "617        618       78  ...            cash  2017-03-18 11:18:42\n",
              "691        692       78  ...           debit  2017-03-27 22:51:43\n",
              "1056      1057       78  ...           debit  2017-03-15 10:16:45\n",
              "1193      1194       78  ...           debit  2017-03-16 16:38:26\n",
              "1204      1205       78  ...     credit_card  2017-03-17 22:32:21\n",
              "1259      1260       78  ...     credit_card   2017-03-27 9:27:20\n",
              "1384      1385       78  ...            cash  2017-03-17 16:38:06\n",
              "1419      1420       78  ...            cash  2017-03-30 12:23:43\n",
              "1452      1453       78  ...     credit_card  2017-03-17 18:09:54\n",
              "1529      1530       78  ...            cash   2017-03-29 7:12:01\n",
              "2270      2271       78  ...     credit_card  2017-03-14 23:58:22\n",
              "2452      2453       78  ...            cash  2017-03-27 11:04:04\n",
              "2492      2493       78  ...           debit   2017-03-04 4:37:34\n",
              "2495      2496       78  ...            cash   2017-03-26 4:38:52\n",
              "2512      2513       78  ...           debit  2017-03-18 18:57:13\n",
              "2548      2549       78  ...            cash  2017-03-17 19:36:00\n",
              "2564      2565       78  ...           debit   2017-03-25 1:19:35\n",
              "2690      2691       78  ...           debit   2017-03-22 7:33:25\n",
              "2773      2774       78  ...            cash  2017-03-26 10:36:43\n",
              "2818      2819       78  ...           debit   2017-03-17 6:25:51\n",
              "2821      2822       78  ...            cash  2017-03-02 17:13:25\n",
              "2906      2907       78  ...           debit   2017-03-16 3:45:46\n",
              "2922      2923       78  ...           debit  2017-03-12 20:10:58\n",
              "3085      3086       78  ...            cash   2017-03-26 1:59:27\n",
              "3101      3102       78  ...     credit_card   2017-03-21 5:10:34\n",
              "3151      3152       78  ...     credit_card  2017-03-18 13:13:07\n",
              "3167      3168       78  ...            cash  2017-03-12 12:23:08\n",
              "3403      3404       78  ...           debit   2017-03-16 9:45:05\n",
              "3440      3441       78  ...           debit  2017-03-19 19:02:54\n",
              "3705      3706       78  ...     credit_card  2017-03-14 20:43:15\n",
              "3724      3725       78  ...     credit_card  2017-03-16 14:13:26\n",
              "3780      3781       78  ...            cash  2017-03-11 21:14:50\n",
              "4040      4041       78  ...            cash  2017-03-02 14:31:12\n",
              "4079      4080       78  ...            cash  2017-03-20 21:14:00\n",
              "4192      4193       78  ...     credit_card   2017-03-18 9:25:32\n",
              "4311      4312       78  ...           debit   2017-03-01 3:02:10\n",
              "4412      4413       78  ...           debit   2017-03-02 4:13:39\n",
              "4420      4421       78  ...           debit  2017-03-09 15:21:35\n",
              "4505      4506       78  ...           debit  2017-03-22 22:06:01\n",
              "4584      4585       78  ...            cash  2017-03-25 21:48:44\n",
              "4715      4716       78  ...           debit   2017-03-05 5:10:44\n",
              "4918      4919       78  ...            cash  2017-03-15 13:26:46\n",
              "\n",
              "[46 rows x 7 columns]"
            ]
          },
          "metadata": {
            "tags": []
          },
          "execution_count": 59
        }
      ]
    },
    {
      "cell_type": "markdown",
      "metadata": {
        "id": "ipBNDoQIIKwW"
      },
      "source": [
        "After exploring further it seems that there were fraudulent activities which were done at time 4:00:00 at shop id 42 with credit card."
      ]
    },
    {
      "cell_type": "code",
      "metadata": {
        "colab": {
          "base_uri": "https://localhost:8080/"
        },
        "id": "M_YYjGGGfk4D",
        "outputId": "26588cc7-2fdf-4564-f984-25385aa16510"
      },
      "source": [
        "#Outliers are present above 98%\n",
        "#Find the 98th percentile value of the order_amount\n",
        "upper_limit = np.percentile(df.order_amount,[98])[0]\n",
        "print(\"Upper limit:\",upper_limit)\n",
        "## Way to handle outlier\n",
        "df[(df.order_amount>3*upper_limit)]= 3*upper_limit"
      ],
      "execution_count": 60,
      "outputs": [
        {
          "output_type": "stream",
          "text": [
            "Upper limit: 800.0799999999981\n"
          ],
          "name": "stdout"
        }
      ]
    },
    {
      "cell_type": "markdown",
      "metadata": {
        "id": "UVSwke055MEi"
      },
      "source": [
        "So after treating the outliers, the scatter plot is given below. It is far better representation of the order value."
      ]
    },
    {
      "cell_type": "code",
      "metadata": {
        "colab": {
          "base_uri": "https://localhost:8080/",
          "height": 513
        },
        "id": "up1rHjeTkTsb",
        "outputId": "64a6c940-c6d7-4221-e6e7-d2a5a18da692"
      },
      "source": [
        "# The scatter plot after treating the outliers\n",
        "sns.jointplot(x='order_amount',y='total_items',marginal_kws=dict(bins=20, rug=True), data=df)"
      ],
      "execution_count": 61,
      "outputs": [
        {
          "output_type": "stream",
          "text": [
            "/usr/local/lib/python3.7/dist-packages/seaborn/axisgrid.py:2094: UserWarning: The marginal plotting function has changed to `histplot`, which does not accept the following argument(s): rug.\n",
            "  warnings.warn(msg, UserWarning)\n"
          ],
          "name": "stderr"
        },
        {
          "output_type": "execute_result",
          "data": {
            "text/plain": [
              "<seaborn.axisgrid.JointGrid at 0x7fbca637db50>"
            ]
          },
          "metadata": {
            "tags": []
          },
          "execution_count": 61
        },
        {
          "output_type": "display_data",
          "data": {
            "image/png": "[encoded data removed]",
            "text/plain": [
              "<Figure size 432x432 with 3 Axes>"
            ]
          },
          "metadata": {
            "tags": [],
            "needs_background": "light"
          }
        }
      ]
    },
    {
      "cell_type": "markdown",
      "metadata": {
        "id": "ctLN2zVYPdKZ"
      },
      "source": [
        "Answer 1(b): These are the two possible matrices that can represent the average order value. The mean value after treating the outliers and unaffected median."
      ]
    },
    {
      "cell_type": "code",
      "metadata": {
        "colab": {
          "base_uri": "https://localhost:8080/"
        },
        "id": "-RET7RI9gsH-",
        "outputId": "526e84df-f980-42ce-a55f-525b3a9dc7e1"
      },
      "source": [
        "print(\"New mean:\",np.mean(df.order_amount))"
      ],
      "execution_count": 62,
      "outputs": [
        {
          "output_type": "stream",
          "text": [
            "New mean: 329.0110239999999\n"
          ],
          "name": "stdout"
        }
      ]
    },
    {
      "cell_type": "code",
      "metadata": {
        "id": "o0lSWrFdrWS7",
        "colab": {
          "base_uri": "https://localhost:8080/"
        },
        "outputId": "9f4fbf04-779d-4137-ac2e-205c7ea477cc"
      },
      "source": [
        "print(\"New mean:\",np.median(df.order_amount))"
      ],
      "execution_count": 63,
      "outputs": [
        {
          "output_type": "stream",
          "text": [
            "New mean: 284.0\n"
          ],
          "name": "stdout"
        }
      ]
    },
    {
      "cell_type": "markdown",
      "metadata": {
        "id": "lDST2FjhPzJG"
      },
      "source": [
        "Answer 1(c):"
      ]
    },
    {
      "cell_type": "markdown",
      "metadata": {
        "id": "ZdPsrwFV5ms2"
      },
      "source": [
        "In nutshell, Even after treating the outliers the new mean value is little far away from the median. We can use the median as its best metric to find the average order value which is 284.0. and can aviod counting the outlier/fraudulent activity or any anomaly present in the data. "
      ]
    },
    {
      "cell_type": "code",
      "metadata": {
        "id": "MZPiQOv0H-ns"
      },
      "source": [
        ""
      ],
      "execution_count": 63,
      "outputs": []
    },
    {
      "cell_type": "markdown",
      "metadata": {
        "id": "9TOsWYd_-yu2"
      },
      "source": [
        "Question 2: \n",
        "\n",
        "For this question you’ll need to use SQL. Follow this link to access the data set required for the challenge. Please use queries to answer the following questions. Paste your queries along with your final numerical answers below.\n",
        "\n",
        "(a) How many orders were shipped by Speedy Express in total?\n",
        "\n",
        "(b) What is the last name of the employee with the most orders?\n",
        "\n",
        "(c) What product was ordered the most by customers in Germany?\n",
        "\n",
        "\n",
        "\n"
      ]
    },
    {
      "cell_type": "markdown",
      "metadata": {
        "id": "6NJbkOwuA2ZK"
      },
      "source": [
        "Answer 2(a):"
      ]
    },
    {
      "cell_type": "markdown",
      "metadata": {
        "id": "2T1Xw98v_qng"
      },
      "source": [
        "\n",
        "\n",
        "SELECT count(Orders.OrderID) FROM Orders \n",
        "\n",
        "JOIN Shippers ON Shippers.ShipperID= Orders.ShipperID\n",
        "\n",
        "WHERE ShipperName='Speedy Express'\n",
        "\n",
        "\n"
      ]
    },
    {
      "cell_type": "markdown",
      "metadata": {
        "id": "PEVVRYPCBWh0"
      },
      "source": [
        "\n",
        "Output: Total order are:54"
      ]
    },
    {
      "cell_type": "markdown",
      "metadata": {
        "id": "7HqzsA28_0hX"
      },
      "source": [
        "Answer 2(b):\n"
      ]
    },
    {
      "cell_type": "markdown",
      "metadata": {
        "id": "ejyRIlMW_0tz"
      },
      "source": [
        "SELECT Employees.LastName,max(OrderDetails.Quantity)\n",
        "\n",
        "FROM Employees\n",
        "\n",
        "JOIN Orders ON Orders.EmployeeID= Employees.EmployeeID\n",
        "\n",
        "JOIN OrderDetails ON OrderDetails.OrderID= Orders.OrderID\n"
      ]
    },
    {
      "cell_type": "markdown",
      "metadata": {
        "id": "3x4YLnlA_09K"
      },
      "source": [
        "Output: Last Name= Fuller, Quantity= 120"
      ]
    },
    {
      "cell_type": "markdown",
      "metadata": {
        "id": "mVAp52uNBebA"
      },
      "source": [
        "Answer 2(c):"
      ]
    },
    {
      "cell_type": "markdown",
      "metadata": {
        "id": "xrODL_B2Bn60"
      },
      "source": [
        "SELECT sub.ProductName, max(sub.Qua) from \n",
        "\n",
        "(SELECT p.ProductName, sum(Quantity) as Qua\n",
        "\n",
        "FROM OrderDetails o \n",
        "\n",
        "INNER JOIN Products p ON o.ProductID=p.ProductID\n",
        "\n",
        "INNER JOIN Suppliers s ON p.SupplierID=s.SupplierID\n",
        "\n",
        "WHERE s.Country='Germany'\n",
        "\n",
        "GROUP BY p.ProductID)sub\n",
        "\n"
      ]
    },
    {
      "cell_type": "markdown",
      "metadata": {
        "id": "X1iqGOM9Cgf3"
      },
      "source": [
        "Output: Product Name:  Gumbär Gummibärchen, Quantity: 232"
      ]
    },
    {
      "cell_type": "code",
      "metadata": {
        "id": "ms32-_RSOvO6"
      },
      "source": [
        ""
      ],
      "execution_count": 63,
      "outputs": []
    }
  ]
}